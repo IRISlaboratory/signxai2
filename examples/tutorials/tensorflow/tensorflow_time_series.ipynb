{
 "cells": [
  {
   "cell_type": "markdown",
   "metadata": {},
   "source": "# SignXAI2 with TensorFlow - ECG Time Series Explanation\n\nThis tutorial demonstrates how to use SignXAI2 to explain ECG (electrocardiogram) predictions with TensorFlow models. We'll be working with ECG data and pre-trained models for detecting cardiac pathologies.\n\n## Setup Requirements\n\n**Important**: SignXAI2 requires Python 3.9 or 3.10 (Python 3.11+ is not supported)\n\nSince you're running this tutorial, you should already have cloned the signxai2 repository. From the repository root directory:\n\n### Using conda:\n```bash\n# Create environment with Python 3.10\nconda create -n signxai2 python=3.10\nconda activate signxai2\n\n# Install SignXAI2 with TensorFlow support\npip install signxai2[tensorflow]\n\n# Download models and example data\ngit lfs install\nbash ./prepare.sh\n```\n\n### Using venv:\n```bash\n# Create virtual environment\npython3.10 -m venv signxai2_env\nsource signxai2_env/bin/activate  # On Windows: signxai2_env\\Scripts\\activate\n\n# Install SignXAI2 with TensorFlow support\npip install signxai2[tensorflow]\n\n# Download models and example data\ngit lfs install\nbash ./prepare.sh\n```\n\n## Overview\n\nWe'll cover:\n1. Loading ECG data and models\n2. Pre-processing ECG signals\n3. Applying explainability methods specifically designed for time series data using the unified API\n4. Visualizing the regions of the ECG that influenced model predictions\n\nLet's get started!"
  },
  {
   "cell_type": "markdown",
   "metadata": {},
   "source": [
    "## 1. Import Libraries"
   ]
  },
  {
   "cell_type": "code",
   "execution_count": null,
   "metadata": {},
   "outputs": [],
   "source": "import os\nimport sys\nimport numpy as np\nimport matplotlib.pyplot as plt\nimport tensorflow as tf\n\n# SignXAI2 unified API imports\nfrom signxai import explain, list_methods\n\n# Import utilities for ECG data handling\n# Ensure the utils directory is in the Python path\nsys.path.append(os.path.join(os.path.dirname(os.path.abspath(\"__file__\")), \"..\", \"utils\"))\nfrom ecg.data import load_and_preprocess_ecg\nfrom ecg.model import load_models_from_paths\nfrom ecg.explainability import normalize_ecg_relevancemap\nfrom ecg.viz import plot_ecg"
  },
  {
   "cell_type": "markdown",
   "metadata": {},
   "source": [
    "## 2. Set Up Data Paths"
   ]
  },
  {
   "cell_type": "code",
   "execution_count": null,
   "metadata": {},
   "outputs": [],
   "source": "# Set up paths\n_THIS_DIR = os.path.dirname(os.path.abspath(\"__file__\"))\nDATA_DIR = os.path.realpath(os.path.join(_THIS_DIR, \"..\", \"..\", \"data\"))\nTIMESERIES_DIR = os.path.join(DATA_DIR, \"timeseries\")\nMODELS_DIR = os.path.join(DATA_DIR, \"models\", \"tensorflow\", \"ECG\")\n\n# Main ECG model path\nECG_MODEL_PATH = os.path.join(MODELS_DIR, \"ecg_model.h5\")\n\n# We can also use one of the pathology-specific models\n# Options: 'AVB' (AV Block), 'ISCH' (Ischemia), 'LBBB' (Left Bundle Branch Block), 'RBBB' (Right Bundle Branch Block)\nMODEL_ID = 'AVB'  # You can change this to any of the above options\nMODEL_DIR = os.path.join(MODELS_DIR, MODEL_ID)\n\n# Specific record to analyze\nRECORD_ID = '03509_hr'  # This is a record with AV block\n\n# Define model paths for pathology-specific model\nMODEL_JSON_PATH = os.path.join(MODEL_DIR, \"model.json\")\nMODEL_WEIGHTS_PATH = os.path.join(MODEL_DIR, \"weights.h5\")\n\n# Check if files exist\nif os.path.exists(ECG_MODEL_PATH):\n    print(f\"Found general ECG model at {ECG_MODEL_PATH}\")\n    USE_GENERAL_MODEL = True\nelse:\n    print(f\"General ECG model not found, using pathology-specific model: {MODEL_ID}\")\n    USE_GENERAL_MODEL = False\n    assert os.path.exists(MODEL_JSON_PATH), f\"Model JSON not found at {MODEL_JSON_PATH}\"\n    assert os.path.exists(MODEL_WEIGHTS_PATH), f\"Model weights not found at {MODEL_WEIGHTS_PATH}\""
  },
  {
   "cell_type": "markdown",
   "metadata": {},
   "source": [
    "## 3. Load the ECG Model and Data"
   ]
  },
  {
   "cell_type": "code",
   "execution_count": null,
   "metadata": {},
   "outputs": [],
   "source": "# Load the ECG model\nif USE_GENERAL_MODEL:\n    # Load the general ECG model directly\n    model = tf.keras.models.load_model(ECG_MODEL_PATH)\n    model_no_softmax = model  # Assuming the model doesn't have softmax\n    print(\"Loaded general ECG model\")\nelse:\n    # Load the pathology-specific model\n    model, model_no_softmax = load_models_from_paths(\n        modelpath=MODEL_JSON_PATH,\n        weightspath=MODEL_WEIGHTS_PATH\n    )\n    print(f\"Loaded pathology-specific model: {MODEL_ID}\")\n\n# Display model architecture\nmodel.summary()"
  },
  {
   "cell_type": "code",
   "execution_count": null,
   "metadata": {},
   "outputs": [],
   "source": [
    "# Load and preprocess the ECG signal\n",
    "ecg = load_and_preprocess_ecg(\n",
    "    record_id=RECORD_ID,\n",
    "    ecg_filters=['BWR', 'BLA', 'AC50Hz', 'LP40Hz'],  # Standard ECG filters\n",
    "    subsampling_window_size=2000,  # Window size to analyze\n",
    "    subsample_start=0,  # Start from the beginning of the record\n",
    "    data_dir=TIMESERIES_DIR,  # Directory with ECG data\n",
    "    model_id=MODEL_ID  # Pass model ID for specific preprocessing\n",
    ")\n",
    "\n",
    "# Plot the ECG signal\n",
    "plt.figure(figsize=(15, 3))\n",
    "plt.plot(ecg)\n",
    "plt.title(f\"ECG Signal - {RECORD_ID}\")\n",
    "plt.xlabel(\"Time (samples)\")\n",
    "plt.ylabel(\"Amplitude\")\n",
    "plt.grid(True)\n",
    "plt.show()\n",
    "\n",
    "# Convert to batch format for the model\n",
    "ecg_batch = np.expand_dims(ecg, axis=0)"
   ]
  },
  {
   "cell_type": "markdown",
   "metadata": {},
   "source": [
    "## 4. Get Model Prediction"
   ]
  },
  {
   "cell_type": "code",
   "execution_count": null,
   "metadata": {},
   "outputs": [],
   "source": [
    "# Get model prediction\n",
    "prediction = model.predict(ecg_batch)\n",
    "prediction_probability = prediction[0][0]\n",
    "\n",
    "print(f\"Model: {MODEL_ID}\")\n",
    "print(f\"Record: {RECORD_ID}\")\n",
    "print(f\"Prediction probability: {prediction_probability:.4f}\")\n",
    "print(f\"Diagnosis: {'Positive' if prediction_probability > 0.5 else 'Negative'} for {MODEL_ID}\")"
   ]
  },
  {
   "cell_type": "markdown",
   "metadata": {},
   "source": [
    "## 5. Generate Explanations for the ECG Signal"
   ]
  },
  {
   "cell_type": "code",
   "execution_count": null,
   "metadata": {},
   "outputs": [],
   "source": "# Define the explainability methods to use with the unified API\nmethods_to_test = [\n    'grad_cam_timeseries',\n    'gradient',\n    'gradient_x_input',\n    'gradient_x_sign',\n    'lrp_alpha_1_beta_0',\n    'lrp_epsilon_0_5',\n    'lrpsign_epsilon_0_5'\n]\n\n# Method-specific parameters\n# For GradCAM, we need to find the last activation layer\n# This will depend on which model we're using\nif USE_GENERAL_MODEL:\n    # For the general model, we'll need to check its architecture\n    # Let's find the last activation layer\n    last_activation = None\n    for layer in model.layers[::-1]:  # Iterate backwards\n        if 'activation' in layer.name or isinstance(layer, tf.keras.layers.Activation):\n            last_activation = layer.name\n            break\n    if not last_activation:\n        # Try to find a conv layer as fallback\n        for layer in model.layers[::-1]:\n            if 'conv' in layer.name.lower():\n                last_activation = layer.name\n                break\n    gradcam_layer = last_activation or 'activation'  # Default fallback\nelse:\n    # For pathology-specific models, use the known layer\n    gradcam_layer = 'activation_4'\n\nmethod_params = {\n    'grad_cam_timeseries': {'layer_name': gradcam_layer}\n}\n\nprint(f\"Using layer '{gradcam_layer}' for GradCAM\")\n\n# Storage for explanations\nexplanations = {}"
  },
  {
   "cell_type": "code",
   "execution_count": null,
   "metadata": {},
   "outputs": [],
   "source": "# Generate explanations using the unified API\nfor method_name in methods_to_test:\n    print(f\"Generating {method_name} explanation...\")\n    \n    # Get method-specific parameters\n    params = method_params.get(method_name, {})\n    \n    # Use the unified explain API\n    # Note: For ECG models, we typically use the class 0 (positive diagnosis)\n    explanation = explain(\n        model=model,\n        x=ecg_batch,\n        method_name=method_name,\n        target_class=0,  # ECG models typically have binary output\n        **params\n    )\n    \n    # Only use positive values for visualization\n    explanation = np.maximum(explanation, 0)\n    \n    # Normalize the explanation for visualization\n    explanation = normalize_ecg_relevancemap(explanation)\n    \n    # Add to explanations dictionary\n    explanations[method_name] = explanation\n    \nprint(\"All explanations generated!\")"
  },
  {
   "cell_type": "markdown",
   "metadata": {},
   "source": [
    "## 6. Visualize ECG Explanations"
   ]
  },
  {
   "cell_type": "code",
   "execution_count": null,
   "metadata": {},
   "outputs": [],
   "source": [
    "# Filter explanations for better visualization (optional)\n",
    "posthresh = 0.2  # Threshold for filtering low values\n",
    "cmap_adjust = 0.3  # Adjust colormap for better visibility\n",
    "\n",
    "for method_name, explanation in explanations.items():\n",
    "    # Filter low values\n",
    "    filtered_explanation = explanation.copy()\n",
    "    filtered_explanation[filtered_explanation <= posthresh] = 0\n",
    "    filtered_explanation[filtered_explanation > posthresh] += cmap_adjust\n",
    "    \n",
    "    # Update the explanations\n",
    "    explanations[method_name] = filtered_explanation"
   ]
  },
  {
   "cell_type": "code",
   "execution_count": null,
   "metadata": {},
   "outputs": [],
   "source": "# Create a figure to visualize all explanations\nfig, axes = plt.subplots(len(explanations), 1, figsize=(15, 4*len(explanations)))\n\n# Ensure axes is always a list\nif len(explanations) == 1:\n    axes = [axes]\n\nfor i, (method_name, explanation) in enumerate(explanations.items()):\n    # Plot the explanation using the utility function\n    plot_ecg(ecg=ecg, \n             explanation=explanation[0], # Remove batch dimension\n             title=f\"{method_name.replace('_', ' ').upper()} - {MODEL_ID} - {RECORD_ID}\",\n             ax=axes[i])\n\nplt.tight_layout()\nplt.show()"
  },
  {
   "cell_type": "markdown",
   "metadata": {},
   "source": "## 7. Interpretation of ECG Explanations\n\nLet's interpret what we're seeing in the ECG explanations:\n\n- **grad_cam_timeseries**: This method adapts GradCAM for time series data, highlighting temporal regions that contributed most to the classification decision.\n\n- **gradient**: Shows the sensitivity of the model output to changes in the input ECG signal. Peaks often correspond to key cardiac events (P-waves, QRS complexes, T-waves).\n\n- **gradient_x_input**: Enhances the gradient by multiplying it with the input signal, emphasizing areas where both the signal and its importance are high.\n\n- **gradient_x_sign**: Uses the sign of the input signal to modulate gradient importance, highlighting direction-dependent features.\n\n- **lrp_alpha_1_beta_0**: A Layer-wise Relevance Propagation variant that emphasizes positive contributions to the prediction.\n\n- **lrp_epsilon_0_5**: Standard LRP with a stabilization term (epsilon=0.5), useful for highlighting relevant signal components.\n\n- **lrpsign_epsilon_0_5**: Combines LRP with a sign operator to provide directional relevance information.\n\nThe highlighted regions in the ECG indicate which parts of the signal were most important for detecting the cardiac condition. For AV block, look for irregularities in the PR interval or missing QRS complexes after P-waves."
  },
  {
   "cell_type": "markdown",
   "metadata": {},
   "source": [
    "## 8. Compare Multiple Pathologies (Optional)\n",
    "\n",
    "For a more comprehensive understanding, we can analyze explanations across different cardiac pathology models."
   ]
  },
  {
   "cell_type": "code",
   "execution_count": null,
   "metadata": {},
   "outputs": [],
   "source": "# Function to run the explanation process for different models using the unified API\ndef run_explanation(model_id, record_id, method='grad_cam_timeseries'):\n    # Check if general model exists first\n    general_model_path = os.path.join(MODELS_DIR, \"ecg_model.h5\")\n    if os.path.exists(general_model_path) and model_id == 'GENERAL':\n        # Use general model\n        model = tf.keras.models.load_model(general_model_path)\n        model_no_softmax = model\n    else:\n        # Load pathology-specific model\n        model_path = os.path.join(MODELS_DIR, model_id, \"model.json\")\n        weights_path = os.path.join(MODELS_DIR, model_id, \"weights.h5\")\n        \n        if not os.path.exists(model_path) or not os.path.exists(weights_path):\n            print(f\"Model files for {model_id} not found, skipping.\")\n            return None, None, None\n        \n        model, model_no_softmax = load_models_from_paths(model_path, weights_path)\n    \n    # Load the ECG data\n    ecg = load_and_preprocess_ecg(\n        record_id=record_id,\n        ecg_filters=['BWR', 'BLA', 'AC50Hz', 'LP40Hz'],\n        subsampling_window_size=2000,\n        subsample_start=0,\n        data_dir=TIMESERIES_DIR,\n        model_id=model_id if model_id != 'GENERAL' else 'AVB'  # Use AVB preprocessing for general model\n    )\n    \n    # Get prediction\n    ecg_batch = np.expand_dims(ecg, axis=0)\n    prediction = model.predict(ecg_batch)[0][0]\n    \n    # Generate explanation using the unified API\n    params = {}\n    if method == 'grad_cam_timeseries':\n        # Find appropriate layer for this model\n        if model_id == 'GENERAL':\n            # Find last activation layer\n            for layer in model.layers[::-1]:\n                if 'activation' in layer.name:\n                    params['layer_name'] = layer.name\n                    break\n        else:\n            params['layer_name'] = 'activation_4'\n    \n    explanation = explain(\n        model=model,\n        x=ecg_batch,\n        method_name=method,\n        target_class=0,  # ECG models typically have binary output\n        **params\n    )\n    \n    explanation = np.maximum(explanation, 0)\n    explanation = normalize_ecg_relevancemap(explanation)\n    \n    # Apply filtering\n    explanation[explanation <= 0.2] = 0\n    explanation[explanation > 0.2] += 0.3\n    \n    return ecg, explanation, prediction"
  },
  {
   "cell_type": "code",
   "execution_count": null,
   "metadata": {},
   "outputs": [],
   "source": "# Define pathology models to compare\npathologies = ['AVB', 'ISCH', 'LBBB', 'RBBB']\nselected_method = 'grad_cam_timeseries'  # Choose one method for comparison\n\n# Create plot\nfig, axes = plt.subplots(len(pathologies), 1, figsize=(15, 4*len(pathologies)))\n\nfor i, model_id in enumerate(pathologies):\n    print(f\"Processing {model_id} model...\")\n    ecg, explanation, prediction = run_explanation(model_id, RECORD_ID, selected_method)\n    \n    if ecg is not None:\n        plot_ecg(ecg=ecg, \n                 explanation=explanation[0],\n                 title=f\"{model_id} - Prediction: {prediction:.4f} - {'Positive' if prediction > 0.5 else 'Negative'}\",\n                 ax=axes[i])\n    else:\n        axes[i].text(0.5, 0.5, f\"Model for {model_id} not available\", ha='center', va='center')\n        axes[i].set_title(f\"{model_id} - Not Available\")\n\nplt.tight_layout()\nplt.show()"
  },
  {
   "cell_type": "markdown",
   "metadata": {},
   "source": "## 9. Conclusion\n\nIn this tutorial, we've demonstrated how to use SignXAI2's unified API to explain predictions of ECG models in TensorFlow. We've covered:\n\n- Loading and preprocessing ECG time series data\n- Working with specialized models for cardiac pathology detection\n- Applying various explainability methods to ECG signals using the unified `explain()` function\n- Visualizing and interpreting explanations\n\nKey advantages of using SignXAI2's unified API:\n- Consistent interface across all explanation methods\n- Easy switching between different XAI techniques\n- Automatic parameter handling for time series data\n- Support for specialized methods like `grad_cam_timeseries`\n\nThese techniques help medical professionals understand what parts of the ECG signal are contributing to the model's predictions, potentially enhancing trust and enabling model validation for clinical use.\n\nThe AIME2024 ECG models used in this tutorial are specifically designed for cardiac pathology detection, demonstrating SignXAI2's versatility in working with domain-specific time series data beyond image classification."
  }
 ],
 "metadata": {
  "kernelspec": {
   "display_name": "Python 3",
   "language": "python",
   "name": "python3"
  },
  "language_info": {
   "codemirror_mode": {
    "name": "ipython",
    "version": 3
   },
   "file_extension": ".py",
   "mimetype": "text/x-python",
   "name": "python",
   "nbconvert_exporter": "python",
   "pygments_lexer": "ipython3",
   "version": "3.8.10"
  }
 },
 "nbformat": 4,
 "nbformat_minor": 4
}