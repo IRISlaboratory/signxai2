{
 "cells": [
  {
   "cell_type": "markdown",
   "metadata": {},
   "source": [
    "# SignXAI with TensorFlow - ECG Time Series Explanation\n",
    "\n",
    "This tutorial demonstrates how to use SignXAI to explain ECG (electrocardiogram) predictions with TensorFlow models. We'll be working with ECG data and pre-trained models for detecting cardiac pathologies.\n",
    "\n",
    "## Setup Requirements\n",
    "\n",
    "For this TensorFlow tutorial, you'll need to install SignXAI with TensorFlow dependencies:\n",
    "\n",
    "```bash\n",
    "# For conda users\n",
    "conda create -n signxai-tensorflow python=3.10\n",
    "conda activate signxai-tensorflow\n",
    "pip install -r ../../requirements/common.txt\n",
    "pip install -r ../../requirements/tensorflow.txt\n",
    "\n",
    "# Or for pip users\n",
    "python -m venv signxai_tensorflow_env\n",
    "source signxai_tensorflow_env/bin/activate  # On Windows: signxai_tensorflow_env\\Scripts\\activate\n",
    "pip install -r ../../requirements/common.txt\n",
    "pip install -r ../../requirements/tensorflow.txt\n",
    "```\n",
    "\n",
    "## Overview\n",
    "\n",
    "We'll cover:\n",
    "1. Loading ECG data and models\n",
    "2. Pre-processing ECG signals\n",
    "3. Applying explainability methods specifically designed for time series data\n",
    "4. Visualizing the regions of the ECG that influenced model predictions\n",
    "\n",
    "Let's get started!"
   ]
  },
  {
   "cell_type": "markdown",
   "metadata": {},
   "source": [
    "## 1. Import Libraries"
   ]
  },
  {
   "cell_type": "code",
   "execution_count": null,
   "metadata": {},
   "outputs": [],
   "source": [
    "import os\n",
    "import sys\n",
    "import numpy as np\n",
    "import matplotlib.pyplot as plt\n",
    "import tensorflow as tf\n",
    "\n",
    "# SignXAI imports\n",
    "from signxai.tf_signxai.methods import SIGN, GradCAMTimeseries, GuidedBackprop, LRPZ, LRPEpsilon, LRPSignedEpsilon\n",
    "from signxai.common.visualization import visualize_attribution\n",
    "from signxai.utils.utils import remove_softmax\n",
    "\n",
    "# Import utilities for ECG data handling\n",
    "# Ensure the utils directory is in the Python path\n",
    "sys.path.append(os.path.join(os.path.dirname(os.path.abspath(\"__file__\")), \"..\", \"utils\"))\n",
    "from ecg.data import load_and_preprocess_ecg\n",
    "from ecg.model import load_models_from_paths\n",
    "from ecg.explainability import normalize_ecg_relevancemap\n",
    "from ecg.viz import plot_ecg"
   ]
  },
  {
   "cell_type": "markdown",
   "metadata": {},
   "source": [
    "## 2. Set Up Data Paths"
   ]
  },
  {
   "cell_type": "code",
   "execution_count": null,
   "metadata": {},
   "outputs": [],
   "source": [
    "# Set up paths\n",
    "_THIS_DIR = os.path.dirname(os.path.abspath(\"__file__\"))\n",
    "DATA_DIR = os.path.realpath(os.path.join(_THIS_DIR, \"..\", \"..\", \"data\"))\n",
    "TIMESERIES_DIR = os.path.join(DATA_DIR, \"timeseries\")\n",
    "MODELS_DIR = os.path.join(DATA_DIR, \"models\", \"tensorflow\", \"ECG_AIME\")\n",
    "\n",
    "# We'll use one of the ECG pathology models from AIME2024\n",
    "# Options: 'AVB' (AV Block), 'ISCH' (Ischemia), 'LBBB' (Left Bundle Branch Block), 'RBBB' (Right Bundle Branch Block)\n",
    "MODEL_ID = 'AVB'  # You can change this to any of the above options\n",
    "MODEL_DIR = os.path.join(MODELS_DIR, MODEL_ID)\n",
    "\n",
    "# Specific record to analyze\n",
    "RECORD_ID = '03509_hr'  # This is a record with AV block\n",
    "\n",
    "# Define model paths\n",
    "MODEL_JSON_PATH = os.path.join(MODEL_DIR, \"model.json\")\n",
    "MODEL_WEIGHTS_PATH = os.path.join(MODEL_DIR, \"weights.h5\")\n",
    "\n",
    "# Verify files exist\n",
    "assert os.path.exists(MODEL_JSON_PATH), f\"Model JSON not found at {MODEL_JSON_PATH}\"\n",
    "assert os.path.exists(MODEL_WEIGHTS_PATH), f\"Model weights not found at {MODEL_WEIGHTS_PATH}\""
   ]
  },
  {
   "cell_type": "markdown",
   "metadata": {},
   "source": [
    "## 3. Load the ECG Model and Data"
   ]
  },
  {
   "cell_type": "code",
   "execution_count": null,
   "metadata": {},
   "outputs": [],
   "source": [
    "# Load the ECG model for the specified pathology\n",
    "model, model_no_softmax = load_models_from_paths(\n",
    "    modelpath=MODEL_JSON_PATH,\n",
    "    weightspath=MODEL_WEIGHTS_PATH\n",
    ")\n",
    "\n",
    "# Display model architecture\n",
    "model.summary()"
   ]
  },
  {
   "cell_type": "code",
   "execution_count": null,
   "metadata": {},
   "outputs": [],
   "source": [
    "# Load and preprocess the ECG signal\n",
    "ecg = load_and_preprocess_ecg(\n",
    "    record_id=RECORD_ID,\n",
    "    ecg_filters=['BWR', 'BLA', 'AC50Hz', 'LP40Hz'],  # Standard ECG filters\n",
    "    subsampling_window_size=2000,  # Window size to analyze\n",
    "    subsample_start=0,  # Start from the beginning of the record\n",
    "    data_dir=TIMESERIES_DIR,  # Directory with ECG data\n",
    "    model_id=MODEL_ID  # Pass model ID for specific preprocessing\n",
    ")\n",
    "\n",
    "# Plot the ECG signal\n",
    "plt.figure(figsize=(15, 3))\n",
    "plt.plot(ecg)\n",
    "plt.title(f\"ECG Signal - {RECORD_ID}\")\n",
    "plt.xlabel(\"Time (samples)\")\n",
    "plt.ylabel(\"Amplitude\")\n",
    "plt.grid(True)\n",
    "plt.show()\n",
    "\n",
    "# Convert to batch format for the model\n",
    "ecg_batch = np.expand_dims(ecg, axis=0)"
   ]
  },
  {
   "cell_type": "markdown",
   "metadata": {},
   "source": [
    "## 4. Get Model Prediction"
   ]
  },
  {
   "cell_type": "code",
   "execution_count": null,
   "metadata": {},
   "outputs": [],
   "source": [
    "# Get model prediction\n",
    "prediction = model.predict(ecg_batch)\n",
    "prediction_probability = prediction[0][0]\n",
    "\n",
    "print(f\"Model: {MODEL_ID}\")\n",
    "print(f\"Record: {RECORD_ID}\")\n",
    "print(f\"Prediction probability: {prediction_probability:.4f}\")\n",
    "print(f\"Diagnosis: {'Positive' if prediction_probability > 0.5 else 'Negative'} for {MODEL_ID}\")"
   ]
  },
  {
   "cell_type": "markdown",
   "metadata": {},
   "source": [
    "## 5. Generate Explanations for the ECG Signal"
   ]
  },
  {
   "cell_type": "code",
   "execution_count": null,
   "metadata": {},
   "outputs": [],
   "source": [
    "# Define the explainability methods to use\n",
    "methods = {\n",
    "    'GradCAM-Timeseries': GradCAMTimeseries(model, layer_name='activation_4'),  # Layer specific to the ECG model\n",
    "    'Gradient': SIGN(model_no_softmax),\n",
    "    'Gradient × Input': SIGN(model_no_softmax),  # Will be processed separately\n",
    "    'Gradient × Sign': SIGN(model_no_softmax),   # Will be processed separately\n",
    "    'LRP-Alpha-1-Beta-0': LRPZ(model_no_softmax),\n",
    "    'LRP-Epsilon': LRPEpsilon(model_no_softmax, epsilon=0.5),\n",
    "    'LRP-Signed-Epsilon': LRPSignedEpsilon(model_no_softmax, epsilon=0.5)\n",
    "}\n",
    "\n",
    "# Storage for explanations\n",
    "explanations = {}"
   ]
  },
  {
   "cell_type": "code",
   "execution_count": null,
   "metadata": {},
   "outputs": [],
   "source": [
    "# Convert data to TensorFlow tensor for explanation\n",
    "ecg_tensor = tf.convert_to_tensor(ecg_batch, dtype=tf.float32)\n",
    "\n",
    "# Generate explanations for each method\n",
    "for method_name, explainer in methods.items():\n",
    "    print(f\"Generating {method_name} explanation...\")\n",
    "    \n",
    "    if method_name == 'Gradient × Input':\n",
    "        # Special case for gradient × input\n",
    "        raw_explanation = explainer.attribute(ecg_tensor).numpy()\n",
    "        explanation = raw_explanation * ecg_batch\n",
    "    elif method_name == 'Gradient × Sign':\n",
    "        # Special case for gradient × sign\n",
    "        raw_explanation = explainer.attribute(ecg_tensor, vlow=-1, vhigh=1).numpy()\n",
    "        sign = np.nan_to_num(ecg_batch / np.abs(ecg_batch), nan=1.0)\n",
    "        explanation = raw_explanation * sign\n",
    "    else:\n",
    "        explanation = explainer.attribute(ecg_tensor).numpy()\n",
    "    \n",
    "    # Only use positive values for visualization\n",
    "    explanation = np.maximum(explanation, 0)\n",
    "    \n",
    "    # Normalize the explanation for visualization\n",
    "    explanation = normalize_ecg_relevancemap(explanation)\n",
    "    \n",
    "    # Add to explanations dictionary\n",
    "    explanations[method_name] = explanation\n",
    "    \n",
    "print(\"All explanations generated!\")"
   ]
  },
  {
   "cell_type": "markdown",
   "metadata": {},
   "source": [
    "## 6. Visualize ECG Explanations"
   ]
  },
  {
   "cell_type": "code",
   "execution_count": null,
   "metadata": {},
   "outputs": [],
   "source": [
    "# Filter explanations for better visualization (optional)\n",
    "posthresh = 0.2  # Threshold for filtering low values\n",
    "cmap_adjust = 0.3  # Adjust colormap for better visibility\n",
    "\n",
    "for method_name, explanation in explanations.items():\n",
    "    # Filter low values\n",
    "    filtered_explanation = explanation.copy()\n",
    "    filtered_explanation[filtered_explanation <= posthresh] = 0\n",
    "    filtered_explanation[filtered_explanation > posthresh] += cmap_adjust\n",
    "    \n",
    "    # Update the explanations\n",
    "    explanations[method_name] = filtered_explanation"
   ]
  },
  {
   "cell_type": "code",
   "execution_count": null,
   "metadata": {},
   "outputs": [],
   "source": [
    "# Create a figure to visualize all explanations\n",
    "fig, axes = plt.subplots(len(explanations), 1, figsize=(15, 4*len(explanations)))\n",
    "\n",
    "for i, (method_name, explanation) in enumerate(explanations.items()):\n",
    "    # Plot the explanation using the utility function\n",
    "    plot_ecg(ecg=ecg, \n",
    "             explanation=explanation[0], # Remove batch dimension\n",
    "             title=f\"{method_name} - {MODEL_ID} - {RECORD_ID}\",\n",
    "             ax=axes[i])\n",
    "\n",
    "plt.tight_layout()\n",
    "plt.show()"
   ]
  },
  {
   "cell_type": "markdown",
   "metadata": {},
   "source": [
    "## 7. Interpretation of ECG Explanations\n",
    "\n",
    "Let's interpret what we're seeing in the ECG explanations:\n",
    "\n",
    "- **GradCAM-Timeseries**: This method adapts GradCAM for time series data, highlighting temporal regions that contributed most to the classification decision.\n",
    "\n",
    "- **Gradient**: Shows the sensitivity of the model output to changes in the input ECG signal. Peaks often correspond to key cardiac events (P-waves, QRS complexes, T-waves).\n",
    "\n",
    "- **Gradient × Input**: Enhances the gradient by multiplying it with the input signal, emphasizing areas where both the signal and its importance are high.\n",
    "\n",
    "- **Gradient × Sign**: Uses the sign of the input signal to modulate gradient importance, highlighting direction-dependent features.\n",
    "\n",
    "- **LRP-Alpha-1-Beta-0**: A Layer-wise Relevance Propagation variant that emphasizes positive contributions to the prediction.\n",
    "\n",
    "- **LRP-Epsilon**: Standard LRP with a stabilization term, useful for highlighting relevant signal components.\n",
    "\n",
    "- **LRP-Signed-Epsilon**: Combines LRP with a sign operator to provide directional relevance information.\n",
    "\n",
    "The highlighted regions in the ECG indicate which parts of the signal were most important for detecting the cardiac condition. For AV block, look for irregularities in the PR interval or missing QRS complexes after P-waves."
   ]
  },
  {
   "cell_type": "markdown",
   "metadata": {},
   "source": [
    "## 8. Compare Multiple Pathologies (Optional)\n",
    "\n",
    "For a more comprehensive understanding, we can analyze explanations across different cardiac pathology models."
   ]
  },
  {
   "cell_type": "code",
   "execution_count": null,
   "metadata": {},
   "outputs": [],
   "source": [
    "# Function to run the explanation process for different models\n",
    "def run_explanation(model_id, record_id, method='GradCAM-Timeseries'):\n",
    "    # Load the model\n",
    "    model_path = os.path.join(MODELS_DIR, model_id, \"model.json\")\n",
    "    weights_path = os.path.join(MODELS_DIR, model_id, \"weights.h5\")\n",
    "    \n",
    "    if not os.path.exists(model_path) or not os.path.exists(weights_path):\n",
    "        print(f\"Model files for {model_id} not found, skipping.\")\n",
    "        return None, None, None\n",
    "    \n",
    "    model, model_no_softmax = load_models_from_paths(model_path, weights_path)\n",
    "    \n",
    "    # Load the ECG data\n",
    "    ecg = load_and_preprocess_ecg(\n",
    "        record_id=record_id,\n",
    "        ecg_filters=['BWR', 'BLA', 'AC50Hz', 'LP40Hz'],\n",
    "        subsampling_window_size=2000,\n",
    "        subsample_start=0,\n",
    "        data_dir=TIMESERIES_DIR,\n",
    "        model_id=model_id\n",
    "    )\n",
    "    \n",
    "    # Get prediction\n",
    "    ecg_batch = np.expand_dims(ecg, axis=0)\n",
    "    prediction = model.predict(ecg_batch)[0][0]\n",
    "    \n",
    "    # Generate explanation\n",
    "    ecg_tensor = tf.convert_to_tensor(ecg_batch, dtype=tf.float32)\n",
    "    \n",
    "    if method == 'GradCAM-Timeseries':\n",
    "        explainer = GradCAMTimeseries(model, layer_name='activation_4')\n",
    "    elif method == 'Gradient':\n",
    "        explainer = SIGN(model_no_softmax)\n",
    "    elif method == 'LRP-Z':\n",
    "        explainer = LRPZ(model_no_softmax)\n",
    "    else:\n",
    "        raise ValueError(f\"Method {method} not supported\")\n",
    "    \n",
    "    explanation = explainer.attribute(ecg_tensor).numpy()\n",
    "    explanation = np.maximum(explanation, 0)\n",
    "    explanation = normalize_ecg_relevancemap(explanation)\n",
    "    \n",
    "    # Apply filtering\n",
    "    explanation[explanation <= 0.2] = 0\n",
    "    explanation[explanation > 0.2] += 0.3\n",
    "    \n",
    "    return ecg, explanation, prediction"
   ]
  },
  {
   "cell_type": "code",
   "execution_count": null,
   "metadata": {},
   "outputs": [],
   "source": [
    "# Define pathology models to compare\n",
    "pathologies = ['AVB', 'ISCH', 'LBBB', 'RBBB']\n",
    "selected_method = 'GradCAM-Timeseries'  # Choose one method for comparison\n",
    "\n",
    "# Create plot\n",
    "fig, axes = plt.subplots(len(pathologies), 1, figsize=(15, 4*len(pathologies)))\n",
    "\n",
    "for i, model_id in enumerate(pathologies):\n",
    "    print(f\"Processing {model_id} model...\")\n",
    "    ecg, explanation, prediction = run_explanation(model_id, RECORD_ID, selected_method)\n",
    "    \n",
    "    if ecg is not None:\n",
    "        plot_ecg(ecg=ecg, \n",
    "                 explanation=explanation[0],\n",
    "                 title=f\"{model_id} - Prediction: {prediction:.4f} - {'Positive' if prediction > 0.5 else 'Negative'}\",\n",
    "                 ax=axes[i])\n",
    "    else:\n",
    "        axes[i].text(0.5, 0.5, f\"Model for {model_id} not available\", ha='center', va='center')\n",
    "        axes[i].set_title(f\"{model_id} - Not Available\")\n",
    "\n",
    "plt.tight_layout()\n",
    "plt.show()"
   ]
  },
  {
   "cell_type": "markdown",
   "metadata": {},
   "source": [
    "## 9. Conclusion\n",
    "\n",
    "In this tutorial, we've demonstrated how to use SignXAI to explain predictions of ECG models in TensorFlow. We've covered:\n",
    "\n",
    "- Loading and preprocessing ECG time series data\n",
    "- Working with specialized models for cardiac pathology detection\n",
    "- Applying various explainability methods to ECG signals\n",
    "- Visualizing and interpreting explanations\n",
    "\n",
    "These techniques help medical professionals understand what parts of the ECG signal are contributing to the model's predictions, potentially enhancing trust and enabling model validation for clinical use.\n",
    "\n",
    "The AIME2024 ECG models used in this tutorial are specifically designed for cardiac pathology detection, demonstrating SignXAI's versatility in working with domain-specific time series data beyond image classification."
   ]
  }
 ],
 "metadata": {
  "kernelspec": {
   "display_name": "Python 3",
   "language": "python",
   "name": "python3"
  },
  "language_info": {
   "codemirror_mode": {
    "name": "ipython",
    "version": 3
   },
   "file_extension": ".py",
   "mimetype": "text/x-python",
   "name": "python",
   "nbconvert_exporter": "python",
   "pygments_lexer": "ipython3",
   "version": "3.8.10"
  }
 },
 "nbformat": 4,
 "nbformat_minor": 4
}
